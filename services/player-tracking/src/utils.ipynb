{
 "cells": [
  {
   "cell_type": "code",
   "execution_count": 1,
   "metadata": {},
   "outputs": [],
   "source": [
    "import tensorflow as tf\n",
    "\n",
    "def load_model():\n",
    "    # Assuming the model is a TensorFlow/Keras model\n",
    "    model = tf.keras.models.load_model('model_directory/')\n",
    "    return model\n",
    "\n",
    "def preprocess_input(frame):\n",
    "    # Example preprocessing function\n",
    "    frame_processed = frame / 255.0  # Normalize the frame\n",
    "    return frame_processed\n"
   ]
  }
 ],
 "metadata": {
  "kernelspec": {
   "display_name": "Python 3",
   "language": "python",
   "name": "python3"
  },
  "language_info": {
   "codemirror_mode": {
    "name": "ipython",
    "version": 3
   },
   "file_extension": ".py",
   "mimetype": "text/x-python",
   "name": "python",
   "nbconvert_exporter": "python",
   "pygments_lexer": "ipython3",
   "version": "3.11.9"
  }
 },
 "nbformat": 4,
 "nbformat_minor": 2
}
